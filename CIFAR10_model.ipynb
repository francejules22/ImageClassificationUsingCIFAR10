{
  "nbformat": 4,
  "nbformat_minor": 0,
  "metadata": {
    "colab": {
      "provenance": []
    },
    "kernelspec": {
      "name": "python3",
      "display_name": "Python 3"
    },
    "language_info": {
      "name": "python"
    },
    "accelerator": "GPU",
    "gpuClass": "standard"
  },
  "cells": [
    {
      "cell_type": "markdown",
      "source": [
        "## Step 1: Import Libraries and Dependencies"
      ],
      "metadata": {
        "id": "oRbMhTH2u37d"
      }
    },
    {
      "cell_type": "code",
      "source": [
        "import tensorflow as tf\n",
        "import matplotlib.pyplot as plt\n",
        "from tensorflow.keras.preprocessing.image import ImageDataGenerator\n",
        "from tensorflow.keras.models import load_model\n",
        "from tensorflow.keras.models import Sequential\n",
        "from tensorflow.keras.preprocessing.image import ImageDataGenerator\n",
        "from tensorflow.keras.preprocessing.image import load_img , img_to_array\n",
        "from tensorflow.keras.layers import Dense , Dropout , Conv2D , MaxPooling2D, Flatten , BatchNormalization"
      ],
      "metadata": {
        "id": "dZTvw4LWvCBI"
      },
      "execution_count": null,
      "outputs": []
    },
    {
      "cell_type": "markdown",
      "source": [
        "## Step 2: Load the CIFAR-10 Dataset"
      ],
      "metadata": {
        "id": "hIi4_2a4vaoN"
      }
    },
    {
      "cell_type": "code",
      "source": [
        "(x_train , y_train) , (x_test , y_test) = tf.keras.datasets.cifar10.load_data()"
      ],
      "metadata": {
        "colab": {
          "base_uri": "https://localhost:8080/"
        },
        "id": "FkV-_UmAvdcV",
        "outputId": "0c9b68c2-3151-41ab-d29c-cd911b683c75"
      },
      "execution_count": null,
      "outputs": [
        {
          "output_type": "stream",
          "name": "stdout",
          "text": [
            "Downloading data from https://www.cs.toronto.edu/~kriz/cifar-10-python.tar.gz\n",
            "170498071/170498071 [==============================] - 5s 0us/step\n"
          ]
        }
      ]
    },
    {
      "cell_type": "markdown",
      "source": [
        "## Step 3: Print the x_train and y_train shape"
      ],
      "metadata": {
        "id": "UbYp6Zcpv4u2"
      }
    },
    {
      "cell_type": "code",
      "source": [
        "print('x_train shape' , x_train.shape)\n",
        "print('y_train shape' , y_train.shape)"
      ],
      "metadata": {
        "colab": {
          "base_uri": "https://localhost:8080/"
        },
        "id": "ZJjeh1K7vsL5",
        "outputId": "066f476a-6525-4692-98db-cefce2ffc70c"
      },
      "execution_count": null,
      "outputs": [
        {
          "output_type": "stream",
          "name": "stdout",
          "text": [
            "x_train shape (50000, 32, 32, 3)\n",
            "y_train shape (50000, 1)\n"
          ]
        }
      ]
    },
    {
      "cell_type": "code",
      "source": [
        "plt.imshow(x_train[1])"
      ],
      "metadata": {
        "colab": {
          "base_uri": "https://localhost:8080/",
          "height": 283
        },
        "id": "xQqGyoS7vxUa",
        "outputId": "13248064-6b57-41a8-8f05-e4f50af7610f"
      },
      "execution_count": null,
      "outputs": [
        {
          "output_type": "execute_result",
          "data": {
            "text/plain": [
              "<matplotlib.image.AxesImage at 0x7fae092251d0>"
            ]
          },
          "metadata": {},
          "execution_count": 4
        },
        {
          "output_type": "display_data",
          "data": {
            "text/plain": [
              "<Figure size 432x288 with 1 Axes>"
            ],
            "image/png": "[encoded data removed]"
          },
          "metadata": {
            "needs_background": "light"
          }
        }
      ]
    },
    {
      "cell_type": "markdown",
      "source": [
        "## Step 4: Normalize the data"
      ],
      "metadata": {
        "id": "tSyMT8d2wBww"
      }
    },
    {
      "cell_type": "code",
      "source": [
        "def normalize(x):\n",
        "    x = x.astype('float32')\n",
        "    x = x/255.0\n",
        "    return x"
      ],
      "metadata": {
        "id": "f_2O-QJIv0Qr"
      },
      "execution_count": null,
      "outputs": []
    },
    {
      "cell_type": "markdown",
      "source": [
        "## Step 5: Image Data Generator"
      ],
      "metadata": {
        "id": "0C0pnpGgwKF7"
      }
    },
    {
      "cell_type": "code",
      "source": [
        "datagen = ImageDataGenerator(\n",
        "                            rotation_range=15,\n",
        "                            width_shift_range=0.1,\n",
        "                            height_shift_range=0.1,\n",
        "                            horizontal_flip=True,\n",
        ")"
      ],
      "metadata": {
        "id": "FTFRSY8ywKPe"
      },
      "execution_count": null,
      "outputs": []
    },
    {
      "cell_type": "markdown",
      "source": [
        "## Step 6: Split the Train and Test Data"
      ],
      "metadata": {
        "id": "EbQu8mz8wOvn"
      }
    },
    {
      "cell_type": "code",
      "source": [
        "from sklearn.model_selection import train_test_split\n",
        "x_test, x_val, y_test, y_val = train_test_split(x_test, y_test, test_size = 0.5, random_state = 0)"
      ],
      "metadata": {
        "id": "GjjQRg1cwTu5"
      },
      "execution_count": null,
      "outputs": []
    },
    {
      "cell_type": "markdown",
      "source": [
        "## Step 7: Fit the data"
      ],
      "metadata": {
        "id": "sMEtFgxLwYVN"
      }
    },
    {
      "cell_type": "code",
      "source": [
        "x_train = normalize(x_train)\n",
        "x_test = normalize(x_test)\n",
        "x_val = normalize(x_val)\n",
        "\n",
        "y_train = tf.keras.utils.to_categorical(y_train , 10)\n",
        "y_test = tf.keras.utils.to_categorical(y_test , 10)\n",
        "y_val  = tf.keras.utils.to_categorical(y_val , 10)\n",
        "\n",
        "datagen.fit(x_train)"
      ],
      "metadata": {
        "id": "EVbkcYE1wbAk"
      },
      "execution_count": null,
      "outputs": []
    },
    {
      "cell_type": "code",
      "source": [
        "def results(model):\n",
        "  epoch = 100\n",
        "  r = model.fit(datagen.flow(x_train , y_train , batch_size = 32), epochs = epoch  ,steps_per_epoch=len(x_train)/32, validation_data = (x_val , y_val) , verbose = 1)\n",
        "  acc = model.evaluate(x_test , y_test)\n",
        "  print(\"test set loss : \" , acc[0])\n",
        "  print(\"test set accuracy :\", acc[1]*100)\n",
        "\n",
        "  epoch_range = range(1, epoch+1)\n",
        "  plt.plot(epoch_range, r.history['accuracy'])\n",
        "  plt.plot(epoch_range, r.history['val_accuracy'])\n",
        "  plt.title('Classification Accuracy')\n",
        "  plt.ylabel('Accuracy')\n",
        "  plt.xlabel('Epoch')\n",
        "  plt.legend(['Train', 'Val'], loc='lower right')\n",
        "  plt.show()\n",
        "\n",
        "  # Plot training & validation loss values\n",
        "  plt.plot(epoch_range,r.history['loss'])\n",
        "  plt.plot(epoch_range, r.history['val_loss'])\n",
        "  plt.title('Model loss')\n",
        "  plt.ylabel('Loss')\n",
        "  plt.xlabel('Epoch')\n",
        "  plt.legend(['Train', 'Val'], loc='lower right')\n",
        "  plt.show()"
      ],
      "metadata": {
        "id": "rRPycpY9wh7K"
      },
      "execution_count": null,
      "outputs": []
    },
    {
      "cell_type": "markdown",
      "source": [
        "## Step 8: Train the model using Convolutional Neural Network"
      ],
      "metadata": {
        "id": "ByXMWeLrwtPB"
      }
    },
    {
      "cell_type": "code",
      "source": [
        "weight_decay = 1e-4\n",
        "model = Sequential([\n",
        "                    Conv2D(32, (3, 3), activation='relu', padding='same',kernel_regularizer=tf.keras.regularizers.l2(weight_decay), input_shape=(32, 32, 3)),\n",
        "\t                BatchNormalization(),\n",
        "                    Conv2D(32, (3, 3), activation='relu',kernel_regularizer=tf.keras.regularizers.l2(weight_decay), padding='same'),\n",
        "\t                BatchNormalization(),\n",
        "                    MaxPooling2D((2, 2)),\n",
        "                    Dropout(0.2),\n",
        "                    Conv2D(64, (3, 3), activation='relu',kernel_regularizer=tf.keras.regularizers.l2(weight_decay), padding='same'),\n",
        "\t                BatchNormalization(),\n",
        "                    Conv2D(64, (3, 3), activation='relu',kernel_regularizer=tf.keras.regularizers.l2(weight_decay), padding='same'),\n",
        "                    BatchNormalization(),\n",
        "                    MaxPooling2D((2, 2)),\n",
        "                    Dropout(0.3),\n",
        "                    Conv2D(128, (3, 3), activation='relu',kernel_regularizer=tf.keras.regularizers.l2(weight_decay), padding='same'),\n",
        "\t                BatchNormalization(),\n",
        "                    Conv2D(128, (3, 3), activation='relu',kernel_regularizer=tf.keras.regularizers.l2(weight_decay), padding='same'),\n",
        "                    BatchNormalization(),\n",
        "                    MaxPooling2D((2, 2)),\n",
        "                    Dropout(0.3),\n",
        "\t                Flatten(),\n",
        "\t                Dense(128, activation='relu'),\n",
        "                    Dense(10, activation='softmax')                    \n",
        "])\n",
        "\n",
        "opt =    tf.keras.optimizers.SGD(lr=0.001, momentum=0.9)\n",
        "model.compile(optimizer=opt, loss='categorical_crossentropy', metrics=['accuracy'])"
      ],
      "metadata": {
        "colab": {
          "base_uri": "https://localhost:8080/"
        },
        "id": "jucNOgPDwj_E",
        "outputId": "eb27b5f8-e285-4b74-83f3-6380497f6b2d"
      },
      "execution_count": null,
      "outputs": [
        {
          "output_type": "stream",
          "name": "stderr",
          "text": [
            "/usr/local/lib/python3.7/dist-packages/keras/optimizers/optimizer_v2/gradient_descent.py:108: UserWarning: The `lr` argument is deprecated, use `learning_rate` instead.\n",
            "  super(SGD, self).__init__(name, **kwargs)\n"
          ]
        }
      ]
    },
    {
      "cell_type": "markdown",
      "source": [
        "## Step 9: Run the Model"
      ],
      "metadata": {
        "id": "T0jqsK-BwzzA"
      }
    },
    {
      "cell_type": "code",
      "source": [
        "results(model)"
      ],
      "metadata": {
        "colab": {
          "base_uri": "https://localhost:8080/",
          "height": 1000
        },
        "id": "j2EGDlR5wnzm",
        "outputId": "9441fdb9-2349-4330-fc94-b9417f6a5d0d"
      },
      "execution_count": null,
      "outputs": [
        {
          "output_type": "stream",
          "name": "stdout",
          "text": [
            "Epoch 1/100\n",
            "1562/1562 [==============================] - 42s 21ms/step - loss: 1.7088 - accuracy: 0.3904 - val_loss: 1.5909 - val_accuracy: 0.4478\n",
            "Epoch 2/100\n",
            "1562/1562 [==============================] - 32s 20ms/step - loss: 1.3911 - accuracy: 0.5075 - val_loss: 1.4811 - val_accuracy: 0.4866\n",
            "Epoch 3/100\n",
            "1562/1562 [==============================] - 32s 20ms/step - loss: 1.2513 - accuracy: 0.5618 - val_loss: 1.1265 - val_accuracy: 0.6162\n",
            "Epoch 4/100\n",
            "1562/1562 [==============================] - 32s 20ms/step - loss: 1.1542 - accuracy: 0.5989 - val_loss: 1.1098 - val_accuracy: 0.6228\n",
            "Epoch 5/100\n",
            "1562/1562 [==============================] - 32s 21ms/step - loss: 1.0794 - accuracy: 0.6265 - val_loss: 1.0745 - val_accuracy: 0.6434\n",
            "Epoch 6/100\n",
            "1562/1562 [==============================] - 34s 22ms/step - loss: 1.0295 - accuracy: 0.6443 - val_loss: 0.9705 - val_accuracy: 0.6768\n",
            "Epoch 7/100\n",
            "1562/1562 [==============================] - 32s 20ms/step - loss: 0.9748 - accuracy: 0.6666 - val_loss: 1.1395 - val_accuracy: 0.6396\n",
            "Epoch 8/100\n",
            "1562/1562 [==============================] - 31s 20ms/step - loss: 0.9281 - accuracy: 0.6827 - val_loss: 0.8394 - val_accuracy: 0.7226\n",
            "Epoch 9/100\n",
            "1562/1562 [==============================] - 32s 20ms/step - loss: 0.8936 - accuracy: 0.6977 - val_loss: 0.9824 - val_accuracy: 0.6830\n",
            "Epoch 10/100\n",
            "1562/1562 [==============================] - 31s 20ms/step - loss: 0.8698 - accuracy: 0.7046 - val_loss: 0.8283 - val_accuracy: 0.7304\n",
            "Epoch 11/100\n",
            "1562/1562 [==============================] - 32s 20ms/step - loss: 0.8441 - accuracy: 0.7156 - val_loss: 0.8075 - val_accuracy: 0.7370\n",
            "Epoch 12/100\n",
            "1562/1562 [==============================] - 32s 20ms/step - loss: 0.8168 - accuracy: 0.7262 - val_loss: 0.7791 - val_accuracy: 0.7452\n",
            "Epoch 13/100\n",
            "1562/1562 [==============================] - 32s 20ms/step - loss: 0.8038 - accuracy: 0.7292 - val_loss: 0.7399 - val_accuracy: 0.7606\n",
            "Epoch 14/100\n",
            "1562/1562 [==============================] - 31s 20ms/step - loss: 0.7821 - accuracy: 0.7411 - val_loss: 0.7422 - val_accuracy: 0.7664\n",
            "Epoch 15/100\n",
            "1562/1562 [==============================] - 31s 20ms/step - loss: 0.7658 - accuracy: 0.7464 - val_loss: 0.9152 - val_accuracy: 0.7204\n",
            "Epoch 16/100\n",
            "1562/1562 [==============================] - 31s 20ms/step - loss: 0.7482 - accuracy: 0.7527 - val_loss: 0.8387 - val_accuracy: 0.7388\n",
            "Epoch 17/100\n",
            "1562/1562 [==============================] - 31s 20ms/step - loss: 0.7366 - accuracy: 0.7556 - val_loss: 0.8121 - val_accuracy: 0.7442\n",
            "Epoch 18/100\n",
            "1562/1562 [==============================] - 31s 20ms/step - loss: 0.7278 - accuracy: 0.7590 - val_loss: 0.6891 - val_accuracy: 0.7842\n",
            "Epoch 19/100\n",
            "1562/1562 [==============================] - 31s 20ms/step - loss: 0.7102 - accuracy: 0.7661 - val_loss: 0.6112 - val_accuracy: 0.8076\n",
            "Epoch 20/100\n",
            "1562/1562 [==============================] - 31s 20ms/step - loss: 0.6910 - accuracy: 0.7707 - val_loss: 0.6319 - val_accuracy: 0.8006\n",
            "Epoch 21/100\n",
            "1562/1562 [==============================] - 32s 20ms/step - loss: 0.6836 - accuracy: 0.7762 - val_loss: 0.7106 - val_accuracy: 0.7774\n",
            "Epoch 22/100\n",
            "1562/1562 [==============================] - 30s 19ms/step - loss: 0.6720 - accuracy: 0.7778 - val_loss: 0.7812 - val_accuracy: 0.7650\n",
            "Epoch 23/100\n",
            "1562/1562 [==============================] - 30s 19ms/step - loss: 0.6593 - accuracy: 0.7826 - val_loss: 0.6616 - val_accuracy: 0.7940\n",
            "Epoch 24/100\n",
            "1562/1562 [==============================] - 31s 20ms/step - loss: 0.6558 - accuracy: 0.7848 - val_loss: 0.6269 - val_accuracy: 0.8078\n",
            "Epoch 25/100\n",
            "1562/1562 [==============================] - 32s 20ms/step - loss: 0.6422 - accuracy: 0.7896 - val_loss: 0.6149 - val_accuracy: 0.8106\n",
            "Epoch 26/100\n",
            "1562/1562 [==============================] - 30s 19ms/step - loss: 0.6373 - accuracy: 0.7925 - val_loss: 0.6778 - val_accuracy: 0.7992\n",
            "Epoch 27/100\n",
            "1562/1562 [==============================] - 30s 19ms/step - loss: 0.6316 - accuracy: 0.7923 - val_loss: 0.6789 - val_accuracy: 0.7930\n",
            "Epoch 28/100\n",
            "1562/1562 [==============================] - 31s 20ms/step - loss: 0.6211 - accuracy: 0.7967 - val_loss: 0.6318 - val_accuracy: 0.8052\n",
            "Epoch 29/100\n",
            "1562/1562 [==============================] - 30s 19ms/step - loss: 0.6123 - accuracy: 0.8003 - val_loss: 0.6329 - val_accuracy: 0.8044\n",
            "Epoch 30/100\n",
            "1562/1562 [==============================] - 32s 20ms/step - loss: 0.6074 - accuracy: 0.8025 - val_loss: 0.5919 - val_accuracy: 0.8170\n",
            "Epoch 31/100\n",
            "1562/1562 [==============================] - 32s 20ms/step - loss: 0.5992 - accuracy: 0.8057 - val_loss: 0.5980 - val_accuracy: 0.8180\n",
            "Epoch 32/100\n",
            "1562/1562 [==============================] - 31s 20ms/step - loss: 0.5907 - accuracy: 0.8082 - val_loss: 0.6477 - val_accuracy: 0.8088\n",
            "Epoch 33/100\n",
            "1562/1562 [==============================] - 31s 20ms/step - loss: 0.5886 - accuracy: 0.8096 - val_loss: 0.6537 - val_accuracy: 0.7980\n",
            "Epoch 34/100\n",
            "1562/1562 [==============================] - 32s 20ms/step - loss: 0.5814 - accuracy: 0.8130 - val_loss: 0.7160 - val_accuracy: 0.7860\n",
            "Epoch 35/100\n",
            "1562/1562 [==============================] - 32s 20ms/step - loss: 0.5691 - accuracy: 0.8155 - val_loss: 0.5824 - val_accuracy: 0.8220\n",
            "Epoch 36/100\n",
            "1562/1562 [==============================] - 32s 20ms/step - loss: 0.5635 - accuracy: 0.8181 - val_loss: 0.6596 - val_accuracy: 0.8036\n",
            "Epoch 37/100\n",
            "1562/1562 [==============================] - 31s 20ms/step - loss: 0.5637 - accuracy: 0.8187 - val_loss: 0.5669 - val_accuracy: 0.8280\n",
            "Epoch 38/100\n",
            "1562/1562 [==============================] - 32s 20ms/step - loss: 0.5521 - accuracy: 0.8231 - val_loss: 0.5230 - val_accuracy: 0.8406\n",
            "Epoch 39/100\n",
            "1562/1562 [==============================] - 32s 20ms/step - loss: 0.5516 - accuracy: 0.8202 - val_loss: 0.5706 - val_accuracy: 0.8282\n",
            "Epoch 40/100\n",
            "1562/1562 [==============================] - 32s 20ms/step - loss: 0.5440 - accuracy: 0.8247 - val_loss: 0.5459 - val_accuracy: 0.8362\n",
            "Epoch 41/100\n",
            "1562/1562 [==============================] - 32s 20ms/step - loss: 0.5402 - accuracy: 0.8267 - val_loss: 0.5490 - val_accuracy: 0.8352\n",
            "Epoch 42/100\n",
            "1562/1562 [==============================] - 31s 20ms/step - loss: 0.5403 - accuracy: 0.8243 - val_loss: 0.6261 - val_accuracy: 0.8160\n",
            "Epoch 43/100\n",
            "1562/1562 [==============================] - 32s 20ms/step - loss: 0.5339 - accuracy: 0.8283 - val_loss: 0.6500 - val_accuracy: 0.8080\n",
            "Epoch 44/100\n",
            "1562/1562 [==============================] - 31s 20ms/step - loss: 0.5268 - accuracy: 0.8300 - val_loss: 0.5700 - val_accuracy: 0.8322\n",
            "Epoch 45/100\n",
            "1562/1562 [==============================] - 31s 20ms/step - loss: 0.5215 - accuracy: 0.8338 - val_loss: 0.5276 - val_accuracy: 0.8446\n",
            "Epoch 46/100\n",
            "1562/1562 [==============================] - 31s 20ms/step - loss: 0.5190 - accuracy: 0.8343 - val_loss: 0.5122 - val_accuracy: 0.8506\n",
            "Epoch 47/100\n",
            "1562/1562 [==============================] - 31s 20ms/step - loss: 0.5167 - accuracy: 0.8343 - val_loss: 0.5778 - val_accuracy: 0.8258\n",
            "Epoch 48/100\n",
            "1562/1562 [==============================] - 31s 20ms/step - loss: 0.5114 - accuracy: 0.8353 - val_loss: 0.5464 - val_accuracy: 0.8374\n",
            "Epoch 49/100\n",
            "1562/1562 [==============================] - 31s 20ms/step - loss: 0.5089 - accuracy: 0.8367 - val_loss: 0.5390 - val_accuracy: 0.8368\n",
            "Epoch 50/100\n",
            "1562/1562 [==============================] - 32s 20ms/step - loss: 0.5030 - accuracy: 0.8402 - val_loss: 0.5411 - val_accuracy: 0.8406\n",
            "Epoch 51/100\n",
            "1562/1562 [==============================] - 31s 20ms/step - loss: 0.5015 - accuracy: 0.8392 - val_loss: 0.6006 - val_accuracy: 0.8248\n",
            "Epoch 52/100\n",
            "1562/1562 [==============================] - 32s 20ms/step - loss: 0.5027 - accuracy: 0.8389 - val_loss: 0.5358 - val_accuracy: 0.8466\n",
            "Epoch 53/100\n",
            "1562/1562 [==============================] - 33s 21ms/step - loss: 0.4943 - accuracy: 0.8437 - val_loss: 0.5097 - val_accuracy: 0.8496\n",
            "Epoch 54/100\n",
            "1562/1562 [==============================] - 32s 20ms/step - loss: 0.4923 - accuracy: 0.8426 - val_loss: 0.5585 - val_accuracy: 0.8358\n",
            "Epoch 55/100\n",
            "1562/1562 [==============================] - 31s 20ms/step - loss: 0.4888 - accuracy: 0.8446 - val_loss: 0.4987 - val_accuracy: 0.8558\n",
            "Epoch 56/100\n",
            "1562/1562 [==============================] - 31s 20ms/step - loss: 0.4828 - accuracy: 0.8483 - val_loss: 0.5557 - val_accuracy: 0.8380\n",
            "Epoch 57/100\n",
            "1562/1562 [==============================] - 31s 20ms/step - loss: 0.4858 - accuracy: 0.8462 - val_loss: 0.5845 - val_accuracy: 0.8332\n",
            "Epoch 58/100\n",
            "1562/1562 [==============================] - 32s 20ms/step - loss: 0.4803 - accuracy: 0.8489 - val_loss: 0.5130 - val_accuracy: 0.8508\n",
            "Epoch 59/100\n",
            "1562/1562 [==============================] - 31s 20ms/step - loss: 0.4802 - accuracy: 0.8484 - val_loss: 0.5548 - val_accuracy: 0.8398\n",
            "Epoch 60/100\n",
            "1562/1562 [==============================] - 31s 20ms/step - loss: 0.4781 - accuracy: 0.8489 - val_loss: 0.5325 - val_accuracy: 0.8418\n",
            "Epoch 61/100\n",
            "1562/1562 [==============================] - 31s 20ms/step - loss: 0.4706 - accuracy: 0.8519 - val_loss: 0.5352 - val_accuracy: 0.8490\n",
            "Epoch 62/100\n",
            "1562/1562 [==============================] - 31s 20ms/step - loss: 0.4651 - accuracy: 0.8531 - val_loss: 0.5285 - val_accuracy: 0.8486\n",
            "Epoch 63/100\n",
            "1562/1562 [==============================] - 31s 20ms/step - loss: 0.4655 - accuracy: 0.8533 - val_loss: 0.5065 - val_accuracy: 0.8578\n",
            "Epoch 64/100\n",
            "1562/1562 [==============================] - 31s 20ms/step - loss: 0.4639 - accuracy: 0.8542 - val_loss: 0.5093 - val_accuracy: 0.8554\n",
            "Epoch 65/100\n",
            "1562/1562 [==============================] - 32s 20ms/step - loss: 0.4612 - accuracy: 0.8551 - val_loss: 0.5332 - val_accuracy: 0.8478\n",
            "Epoch 66/100\n",
            "1562/1562 [==============================] - 31s 20ms/step - loss: 0.4596 - accuracy: 0.8570 - val_loss: 0.5216 - val_accuracy: 0.8498\n",
            "Epoch 67/100\n",
            "1562/1562 [==============================] - 31s 20ms/step - loss: 0.4565 - accuracy: 0.8568 - val_loss: 0.5261 - val_accuracy: 0.8468\n",
            "Epoch 68/100\n",
            "1562/1562 [==============================] - 31s 20ms/step - loss: 0.4525 - accuracy: 0.8586 - val_loss: 0.4810 - val_accuracy: 0.8610\n",
            "Epoch 69/100\n",
            "1562/1562 [==============================] - 31s 20ms/step - loss: 0.4515 - accuracy: 0.8577 - val_loss: 0.4780 - val_accuracy: 0.8630\n",
            "Epoch 70/100\n",
            "1562/1562 [==============================] - 31s 20ms/step - loss: 0.4458 - accuracy: 0.8604 - val_loss: 0.5083 - val_accuracy: 0.8576\n",
            "Epoch 71/100\n",
            "1562/1562 [==============================] - 31s 20ms/step - loss: 0.4416 - accuracy: 0.8607 - val_loss: 0.5389 - val_accuracy: 0.8468\n",
            "Epoch 72/100\n",
            "1562/1562 [==============================] - 32s 20ms/step - loss: 0.4435 - accuracy: 0.8614 - val_loss: 0.5204 - val_accuracy: 0.8520\n",
            "Epoch 73/100\n",
            "1562/1562 [==============================] - 31s 20ms/step - loss: 0.4471 - accuracy: 0.8599 - val_loss: 0.5032 - val_accuracy: 0.8588\n",
            "Epoch 74/100\n",
            "1562/1562 [==============================] - 31s 20ms/step - loss: 0.4425 - accuracy: 0.8610 - val_loss: 0.4944 - val_accuracy: 0.8550\n",
            "Epoch 75/100\n",
            "1562/1562 [==============================] - 31s 20ms/step - loss: 0.4323 - accuracy: 0.8642 - val_loss: 0.5146 - val_accuracy: 0.8582\n",
            "Epoch 76/100\n",
            "1562/1562 [==============================] - 31s 20ms/step - loss: 0.4331 - accuracy: 0.8641 - val_loss: 0.5475 - val_accuracy: 0.8462\n",
            "Epoch 77/100\n",
            "1562/1562 [==============================] - 31s 20ms/step - loss: 0.4333 - accuracy: 0.8648 - val_loss: 0.4842 - val_accuracy: 0.8598\n",
            "Epoch 78/100\n",
            "1562/1562 [==============================] - 31s 20ms/step - loss: 0.4306 - accuracy: 0.8665 - val_loss: 0.5041 - val_accuracy: 0.8604\n",
            "Epoch 79/100\n",
            "1562/1562 [==============================] - 31s 20ms/step - loss: 0.4298 - accuracy: 0.8662 - val_loss: 0.4820 - val_accuracy: 0.8696\n",
            "Epoch 80/100\n",
            "1562/1562 [==============================] - 31s 20ms/step - loss: 0.4288 - accuracy: 0.8662 - val_loss: 0.5183 - val_accuracy: 0.8508\n",
            "Epoch 81/100\n",
            "1562/1562 [==============================] - 32s 20ms/step - loss: 0.4225 - accuracy: 0.8682 - val_loss: 0.4934 - val_accuracy: 0.8660\n",
            "Epoch 82/100\n",
            "1562/1562 [==============================] - 31s 20ms/step - loss: 0.4228 - accuracy: 0.8695 - val_loss: 0.5378 - val_accuracy: 0.8472\n",
            "Epoch 83/100\n",
            "1562/1562 [==============================] - 31s 20ms/step - loss: 0.4217 - accuracy: 0.8695 - val_loss: 0.4802 - val_accuracy: 0.8634\n",
            "Epoch 84/100\n",
            "1562/1562 [==============================] - 31s 20ms/step - loss: 0.4187 - accuracy: 0.8709 - val_loss: 0.4902 - val_accuracy: 0.8614\n",
            "Epoch 85/100\n",
            "1562/1562 [==============================] - 31s 20ms/step - loss: 0.4131 - accuracy: 0.8720 - val_loss: 0.5027 - val_accuracy: 0.8564\n",
            "Epoch 86/100\n",
            "1562/1562 [==============================] - 31s 20ms/step - loss: 0.4196 - accuracy: 0.8708 - val_loss: 0.4667 - val_accuracy: 0.8654\n",
            "Epoch 87/100\n",
            "1562/1562 [==============================] - 30s 19ms/step - loss: 0.4136 - accuracy: 0.8731 - val_loss: 0.4762 - val_accuracy: 0.8664\n",
            "Epoch 88/100\n",
            "1562/1562 [==============================] - 30s 19ms/step - loss: 0.4136 - accuracy: 0.8732 - val_loss: 0.4771 - val_accuracy: 0.8674\n",
            "Epoch 89/100\n",
            "1562/1562 [==============================] - 31s 20ms/step - loss: 0.4103 - accuracy: 0.8746 - val_loss: 0.4562 - val_accuracy: 0.8730\n",
            "Epoch 90/100\n",
            "1562/1562 [==============================] - 30s 19ms/step - loss: 0.4069 - accuracy: 0.8750 - val_loss: 0.5140 - val_accuracy: 0.8574\n",
            "Epoch 91/100\n",
            "1562/1562 [==============================] - 30s 19ms/step - loss: 0.4101 - accuracy: 0.8723 - val_loss: 0.4868 - val_accuracy: 0.8672\n",
            "Epoch 92/100\n",
            "1562/1562 [==============================] - 30s 19ms/step - loss: 0.4064 - accuracy: 0.8741 - val_loss: 0.4398 - val_accuracy: 0.8814\n",
            "Epoch 93/100\n",
            "1562/1562 [==============================] - 31s 20ms/step - loss: 0.4041 - accuracy: 0.8763 - val_loss: 0.4954 - val_accuracy: 0.8626\n",
            "Epoch 94/100\n",
            "1562/1562 [==============================] - 30s 19ms/step - loss: 0.4011 - accuracy: 0.8757 - val_loss: 0.4936 - val_accuracy: 0.8680\n",
            "Epoch 95/100\n",
            "1562/1562 [==============================] - 30s 19ms/step - loss: 0.3985 - accuracy: 0.8780 - val_loss: 0.4737 - val_accuracy: 0.8696\n",
            "Epoch 96/100\n",
            "1562/1562 [==============================] - 30s 19ms/step - loss: 0.4004 - accuracy: 0.8773 - val_loss: 0.4535 - val_accuracy: 0.8764\n",
            "Epoch 97/100\n",
            "1562/1562 [==============================] - 30s 19ms/step - loss: 0.4021 - accuracy: 0.8764 - val_loss: 0.4885 - val_accuracy: 0.8624\n",
            "Epoch 98/100\n",
            "1562/1562 [==============================] - 30s 19ms/step - loss: 0.3989 - accuracy: 0.8797 - val_loss: 0.4764 - val_accuracy: 0.8684\n",
            "Epoch 99/100\n",
            "1562/1562 [==============================] - 31s 20ms/step - loss: 0.3991 - accuracy: 0.8783 - val_loss: 0.5217 - val_accuracy: 0.8548\n",
            "Epoch 100/100\n",
            "1562/1562 [==============================] - 31s 20ms/step - loss: 0.3975 - accuracy: 0.8790 - val_loss: 0.4611 - val_accuracy: 0.8730\n",
            "157/157 [==============================] - 1s 4ms/step - loss: 0.4352 - accuracy: 0.8712\n",
            "test set loss :  0.4352487325668335\n",
            "test set accuracy : 87.12000250816345\n"
          ]
        },
        {
          "output_type": "display_data",
          "data": {
            "text/plain": [
              "<Figure size 432x288 with 1 Axes>"
            ],
            "image/png": "[encoded data removed]"
          },
          "metadata": {
            "needs_background": "light"
          }
        },
        {
          "output_type": "display_data",
          "data": {
            "text/plain": [
              "<Figure size 432x288 with 1 Axes>"
            ],
            "image/png": "[encoded data removed]"
          },
          "metadata": {
            "needs_background": "light"
          }
        }
      ]
    },
    {
      "cell_type": "markdown",
      "source": [
        "## Step 10: Save the Model"
      ],
      "metadata": {
        "id": "epuJAnFixJ6I"
      }
    },
    {
      "cell_type": "code",
      "source": [
        "model.save(\"CIFAR10_model.hdf5\")"
      ],
      "metadata": {
        "id": "dInqiIxAxNN5"
      },
      "execution_count": null,
      "outputs": []
    }
  ]
}